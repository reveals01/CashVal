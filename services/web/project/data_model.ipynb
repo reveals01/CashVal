{
 "cells": [
  {
   "cell_type": "code",
   "execution_count": 4,
   "metadata": {},
   "outputs": [
    {
     "ename": "ModuleNotFoundError",
     "evalue": "No module named 'db'",
     "output_type": "error",
     "traceback": [
      "\u001b[0;31m---------------------------------------------------------------------------\u001b[0m",
      "\u001b[0;31mModuleNotFoundError\u001b[0m                       Traceback (most recent call last)",
      "Cell \u001b[0;32mIn[4], line 2\u001b[0m\n\u001b[1;32m      1\u001b[0m \u001b[39mfrom\u001b[39;00m \u001b[39meralchemy\u001b[39;00m \u001b[39mimport\u001b[39;00m render_er\n\u001b[0;32m----> 2\u001b[0m \u001b[39mimport\u001b[39;00m \u001b[39mdb\u001b[39;00m\n\u001b[1;32m      3\u001b[0m \u001b[39m# Assuming \"db\" is your SQLAlchemy database object\u001b[39;00m\n\u001b[1;32m      4\u001b[0m \u001b[39m# And \"Base\" is your declarative base class\u001b[39;00m\n\u001b[1;32m      5\u001b[0m render_er(db\u001b[39m.\u001b[39mModel, \u001b[39m'\u001b[39m\u001b[39moutput.png\u001b[39m\u001b[39m'\u001b[39m)\n",
      "\u001b[0;31mModuleNotFoundError\u001b[0m: No module named 'db'"
     ]
    }
   ],
   "source": [
    "from eralchemy import render_er\n",
    "import db\n",
    "# Assuming \"db\" is your SQLAlchemy database object\n",
    "# And \"Base\" is your declarative base class\n",
    "render_er(db.Model, 'output.png')\n"
   ]
  },
  {
   "cell_type": "code",
   "execution_count": null,
   "metadata": {},
   "outputs": [],
   "source": []
  }
 ],
 "metadata": {
  "kernelspec": {
   "display_name": "venv",
   "language": "python",
   "name": "python3"
  },
  "language_info": {
   "codemirror_mode": {
    "name": "ipython",
    "version": 3
   },
   "file_extension": ".py",
   "mimetype": "text/x-python",
   "name": "python",
   "nbconvert_exporter": "python",
   "pygments_lexer": "ipython3",
   "version": "3.11.0"
  },
  "orig_nbformat": 4
 },
 "nbformat": 4,
 "nbformat_minor": 2
}
