{
 "cells": [
  {
   "cell_type": "code",
   "execution_count": 5,
   "metadata": {},
   "outputs": [
    {
     "data": {
      "text/plain": [
       "{'1': [1, 2, 3, 4, 5, 6, 7, 8, 9, 10]}"
      ]
     },
     "execution_count": 5,
     "metadata": {},
     "output_type": "execute_result"
    }
   ],
   "source": [
    "import json\n",
    "\n",
    "test = {\"1\":[1,2,3,4,5,6,7,8,9,10]}\n",
    "\n",
    "test2 = json.dumps(test)\n",
    "json.loads(test2)"
   ]
  },
  {
   "cell_type": "code",
   "execution_count": 6,
   "metadata": {},
   "outputs": [
    {
     "data": {
      "text/plain": [
       "[{'Period': 1,\n",
       "  'Percent': 1,\n",
       "  'isinProduit': 'isin1',\n",
       "  'noncall': 1,\n",
       "  'type': 'type1'},\n",
       " {'Period': 2,\n",
       "  'Percent': 1,\n",
       "  'isinProduit': 'isin1',\n",
       "  'noncall': 1,\n",
       "  'type': 'type1'},\n",
       " {'Period': 3,\n",
       "  'Percent': 1,\n",
       "  'isinProduit': 'isin1',\n",
       "  'noncall': 1,\n",
       "  'type': 'type1'},\n",
       " {'Period': 4,\n",
       "  'Percent': 1,\n",
       "  'isinProduit': 'isin1',\n",
       "  'noncall': 1,\n",
       "  'type': 'type1'},\n",
       " {'Period': 5,\n",
       "  'Percent': 1,\n",
       "  'isinProduit': 'isin1',\n",
       "  'noncall': 1,\n",
       "  'type': 'type1'}]"
      ]
     },
     "execution_count": 6,
     "metadata": {},
     "output_type": "execute_result"
    }
   ],
   "source": [
    "echeances = [\n",
    "    {\n",
    "        'Period': 1,\n",
    "        'Percent': 1,\n",
    "        'isinProduit': 'isin1',\n",
    "        'noncall': 1,\n",
    "        'type': 'type1'\n",
    "    },\n",
    "    {\n",
    "        'Period': 3,\n",
    "        'Percent': 1,\n",
    "        'isinProduit': 'isin1',\n",
    "        'noncall': 1,\n",
    "        'type': 'type1'\n",
    "    },\n",
    "    {\n",
    "        'Period': 5,\n",
    "        'Percent': 1,\n",
    "        'isinProduit': 'isin1',\n",
    "        'noncall': 1,\n",
    "        'type': 'type1'\n",
    "    },\n",
    "\n",
    "]\n",
    "\n",
    "completed_echeances = []\n",
    "last_period = None\n",
    "last_percent = None\n",
    "\n",
    "for echeance in echeances:\n",
    "    if last_period is not None:\n",
    "        for missing_period in range(last_period + 1, echeance['Period']):\n",
    "            completed_echeances.append({\n",
    "                'Period': missing_period, \n",
    "                'Percent': last_percent,\n",
    "                'isinProduit': echeance['isinProduit'],\n",
    "                'noncall': echeance['noncall'],\n",
    "                'type': echeance['type']\n",
    "            })\n",
    "\n",
    "    completed_echeances.append(echeance)\n",
    "    last_period = echeance['Period']\n",
    "    last_percent = echeance['Percent']\n",
    "\n",
    "echeances = completed_echeances\n",
    "echeances"
   ]
  },
  {
   "cell_type": "code",
   "execution_count": null,
   "metadata": {},
   "outputs": [],
   "source": []
  }
 ],
 "metadata": {
  "kernelspec": {
   "display_name": "venv",
   "language": "python",
   "name": "python3"
  },
  "language_info": {
   "codemirror_mode": {
    "name": "ipython",
    "version": 3
   },
   "file_extension": ".py",
   "mimetype": "text/x-python",
   "name": "python",
   "nbconvert_exporter": "python",
   "pygments_lexer": "ipython3",
   "version": "3.9.6"
  },
  "orig_nbformat": 4
 },
 "nbformat": 4,
 "nbformat_minor": 2
}
