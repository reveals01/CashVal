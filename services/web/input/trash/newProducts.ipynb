{
 "cells": [
  {
   "cell_type": "code",
   "execution_count": 4,
   "metadata": {},
   "outputs": [],
   "source": [
    "import os\n",
    "import pandas as pd\n",
    "import requests"
   ]
  },
  {
   "cell_type": "code",
   "execution_count": 6,
   "metadata": {},
   "outputs": [],
   "source": [
    "os.chdir(\"/Users/thomas/Documents/reveals/CLIENTS/MASSENA/Massena_PS/services/web/input\")"
   ]
  },
  {
   "cell_type": "code",
   "execution_count": 7,
   "metadata": {},
   "outputs": [],
   "source": [
    "df = pd.read_excel('./products.xlsx',converters={'dateAchat':str,'dateEmission':str,'dateEchFinale':str,'dateRembEff':str})"
   ]
  },
  {
   "cell_type": "code",
   "execution_count": 4,
   "metadata": {},
   "outputs": [],
   "source": [
    "df['dateAchat']=df['dateAchat'].apply(lambda x: x[8:10]+'/'+x[5:7]+'/'+x[0:4])\n",
    "df['dateEmission']=df['dateEmission'].apply(lambda x: x[8:10]+'/'+x[5:7]+'/'+x[0:4])\n",
    "df['dateEchFinale']=df['dateEchFinale'].apply(lambda x: x[8:10]+'/'+x[5:7]+'/'+x[0:4])\n",
    "df['dateRembEff']=df['dateRembEff'].apply(lambda x: x[8:10]+'/'+x[5:7]+'/'+x[0:4])"
   ]
  },
  {
   "cell_type": "code",
   "execution_count": 5,
   "metadata": {},
   "outputs": [
    {
     "data": {
      "text/html": [
       "<div>\n",
       "<style scoped>\n",
       "    .dataframe tbody tr th:only-of-type {\n",
       "        vertical-align: middle;\n",
       "    }\n",
       "\n",
       "    .dataframe tbody tr th {\n",
       "        vertical-align: top;\n",
       "    }\n",
       "\n",
       "    .dataframe thead th {\n",
       "        text-align: right;\n",
       "    }\n",
       "</style>\n",
       "<table border=\"1\" class=\"dataframe\">\n",
       "  <thead>\n",
       "    <tr style=\"text-align: right;\">\n",
       "      <th></th>\n",
       "      <th>isin</th>\n",
       "      <th>ticker</th>\n",
       "      <th>devise</th>\n",
       "      <th>shortName</th>\n",
       "      <th>description</th>\n",
       "      <th>investissement</th>\n",
       "      <th>type</th>\n",
       "      <th>emetteur</th>\n",
       "      <th>maturite</th>\n",
       "      <th>typeProduit</th>\n",
       "      <th>clientele</th>\n",
       "      <th>remuneration</th>\n",
       "      <th>typePanier</th>\n",
       "      <th>dateAchat</th>\n",
       "      <th>dateEmission</th>\n",
       "      <th>dateEchFinale</th>\n",
       "      <th>dateRembEff</th>\n",
       "      <th>periodeRemb</th>\n",
       "      <th>periodeCoup</th>\n",
       "      <th>periodeNocall</th>\n",
       "    </tr>\n",
       "  </thead>\n",
       "  <tbody>\n",
       "    <tr>\n",
       "      <th>0</th>\n",
       "      <td>isin1</td>\n",
       "      <td>ticker1</td>\n",
       "      <td>EUR</td>\n",
       "      <td>test produit</td>\n",
       "      <td>premier test produit</td>\n",
       "      <td>1000000</td>\n",
       "      <td>PHOENIX</td>\n",
       "      <td>SG</td>\n",
       "      <td>3</td>\n",
       "      <td>Owe</td>\n",
       "      <td>Wealth</td>\n",
       "      <td>part fixe</td>\n",
       "      <td>best of</td>\n",
       "      <td>01/01/2023</td>\n",
       "      <td>01/06/2022</td>\n",
       "      <td>01/01/2026</td>\n",
       "      <td>01/01/2026</td>\n",
       "      <td>12</td>\n",
       "      <td>12</td>\n",
       "      <td>2</td>\n",
       "    </tr>\n",
       "  </tbody>\n",
       "</table>\n",
       "</div>"
      ],
      "text/plain": [
       "    isin   ticker devise     shortName           description  investissement  \\\n",
       "0  isin1  ticker1    EUR  test produit  premier test produit         1000000   \n",
       "\n",
       "      type emetteur  maturite typeProduit clientele remuneration typePanier  \\\n",
       "0  PHOENIX       SG         3         Owe   Wealth     part fixe    best of   \n",
       "\n",
       "    dateAchat dateEmission dateEchFinale dateRembEff  periodeRemb  \\\n",
       "0  01/01/2023   01/06/2022    01/01/2026  01/01/2026           12   \n",
       "\n",
       "   periodeCoup  periodeNocall  \n",
       "0           12              2  "
      ]
     },
     "execution_count": 5,
     "metadata": {},
     "output_type": "execute_result"
    }
   ],
   "source": [
    "df"
   ]
  },
  {
   "cell_type": "code",
   "execution_count": 6,
   "metadata": {},
   "outputs": [],
   "source": [
    "df2=df[['isin',\"ticker\"]]"
   ]
  },
  {
   "cell_type": "code",
   "execution_count": 7,
   "metadata": {},
   "outputs": [
    {
     "data": {
      "text/plain": [
       "'[{\"isin\":\"isin1\",\"ticker\":\"ticker1\",\"devise\":\"EUR\",\"shortName\":\"test produit\",\"description\":\"premier test produit\",\"investissement\":1000000,\"type\":\"PHOENIX\",\"emetteur\":\"SG\",\"maturite\":3,\"typeProduit\":\"Owe\",\"clientele\":\"Wealth \",\"remuneration\":\"part fixe\",\"typePanier\":\"best of\",\"dateAchat\":\"01\\\\/01\\\\/2023\",\"dateEmission\":\"01\\\\/06\\\\/2022\",\"dateEchFinale\":\"01\\\\/01\\\\/2026\",\"dateRembEff\":\"01\\\\/01\\\\/2026\",\"periodeRemb\":12,\"periodeCoup\":12,\"periodeNocall\":2}]'"
      ]
     },
     "execution_count": 7,
     "metadata": {},
     "output_type": "execute_result"
    }
   ],
   "source": [
    "js_input=df.to_json(orient='records')\n",
    "js_input"
   ]
  },
  {
   "cell_type": "markdown",
   "metadata": {},
   "source": []
  },
  {
   "cell_type": "code",
   "execution_count": 8,
   "metadata": {},
   "outputs": [
    {
     "name": "stdout",
     "output_type": "stream",
     "text": [
      "<Response [200]>\n"
     ]
    }
   ],
   "source": [
    "\n",
    "# api-endpoint\n",
    "URL = \"http://127.0.0.1:5001/api/setproducts\"\n",
    "\n",
    "# sending get request and saving the response as response object\n",
    "r = requests.post(url = URL, json = js_input)\n",
    "  \n",
    "# extracting data in json format\n",
    "print(r)"
   ]
  },
  {
   "cell_type": "code",
   "execution_count": 288,
   "metadata": {},
   "outputs": [
    {
     "data": {
      "text/plain": [
       "'2'"
      ]
     },
     "execution_count": 288,
     "metadata": {},
     "output_type": "execute_result"
    }
   ],
   "source": [
    "a={'1':'2'}\n",
    "list(a.values())[0]"
   ]
  }
 ],
 "metadata": {
  "kernelspec": {
   "display_name": "Python 3",
   "language": "python",
   "name": "python3"
  },
  "language_info": {
   "codemirror_mode": {
    "name": "ipython",
    "version": 3
   },
   "file_extension": ".py",
   "mimetype": "text/x-python",
   "name": "python",
   "nbconvert_exporter": "python",
   "pygments_lexer": "ipython3",
   "version": "3.7.9"
  },
  "orig_nbformat": 4
 },
 "nbformat": 4,
 "nbformat_minor": 2
}
