{
 "cells": [
  {
   "cell_type": "code",
   "execution_count": 1,
   "metadata": {},
   "outputs": [],
   "source": [
    "import os\n",
    "import pandas as pd\n",
    "import requests"
   ]
  },
  {
   "cell_type": "code",
   "execution_count": 43,
   "metadata": {},
   "outputs": [],
   "source": [
    "os.chdir(\"/Users/david/EnvPy/dpartners/services/web/input\")"
   ]
  },
  {
   "cell_type": "code",
   "execution_count": 44,
   "metadata": {},
   "outputs": [],
   "source": [
    "#df = pd.read_csv('./BANKVISTA_securities_20230303_20230306-080502_sample.csv',sep=';')"
   ]
  },
  {
   "cell_type": "code",
   "execution_count": 2,
   "metadata": {},
   "outputs": [],
   "source": [
    "df_inst = pd.read_excel('./produitStructure.xlsx',sheet_name='TICKER')"
   ]
  },
  {
   "cell_type": "code",
   "execution_count": 3,
   "metadata": {},
   "outputs": [],
   "source": [
    "columns_renamed = {\n",
    "    'CODE ISIN': 'isin',\n",
    "    'TICKER': 'ticker',\n",
    "    'Sous-jacent': 'shortName',\n",
    "}\n",
    "\n",
    "df_inst.rename(columns=columns_renamed, inplace=True)\n",
    "\n",
    "INSTRUMENT_final = df_inst[columns_renamed.values()]\n",
    "INSTRUMENT_final = INSTRUMENT_final.fillna('')\n",
    "\n",
    "# Transform priceDate to DateTime\n",
    "#INSTRUMENT_final['priceDate'] = pd.to_datetime(INSTRUMENT_final['priceDate'], format='%d/%m/%Y', errors='coerce')\n",
    "\n",
    "#INSTRUMENT_final['priceDate'] = INSTRUMENT_final['priceDate'].dt.strftime('%Y-%m-%d').astype(str).replace('nan', '01/01/1900')\n",
    "#INSTRUMENT_final[\"price\"] = INSTRUMENT_final[\"price\"].replace('','0').astype(float)\n",
    "\n",
    "\n",
    "\n",
    "js_input=INSTRUMENT_final.to_json(orient='records')"
   ]
  },
  {
   "cell_type": "code",
   "execution_count": 4,
   "metadata": {},
   "outputs": [
    {
     "name": "stdout",
     "output_type": "stream",
     "text": [
      "<Response [200]>\n"
     ]
    }
   ],
   "source": [
    "# api-endpoint\n",
    "URL = \"http://127.0.0.1:5001/api/setinstruments\"\n",
    "\n",
    "r = requests.post(url = URL, json = js_input)\n",
    "print(r) "
   ]
  },
  {
   "cell_type": "code",
   "execution_count": 48,
   "metadata": {},
   "outputs": [],
   "source": [
    "#df.head()"
   ]
  },
  {
   "cell_type": "code",
   "execution_count": 49,
   "metadata": {},
   "outputs": [],
   "source": [
    "#df_instruments=df[['ID_ISIN','CRNCY','SECURITIES']].drop_duplicates()\n",
    "##df_instruments=df_instruments.rename(columns={'ID_ISIN':'isin','CRNCY':'devise','SECURITIES':'ticker'})\n",
    "#df_instruments['shortName']='import auto'\n",
    "##df_instruments['description']=''\n",
    "#df_instruments.head()\n",
    "#df_instruments['isin']=df_instruments['isin'].apply(lambda x: x.strip())\n",
    "#df_instruments['ticker']=df_instruments['ticker'].apply(lambda x: x.strip())"
   ]
  },
  {
   "cell_type": "code",
   "execution_count": 50,
   "metadata": {},
   "outputs": [],
   "source": [
    "#js_input=df_instruments.to_json(orient='records')\n",
    "#js_input"
   ]
  },
  {
   "cell_type": "code",
   "execution_count": 51,
   "metadata": {},
   "outputs": [],
   "source": [
    "\n",
    "# api-endpoint\n",
    "#URL = \"http://127.0.0.1:5001/api/setinstruments\"\n",
    "\n",
    "# sending get request and saving the response as response object\n",
    "#r = requests.post(url = URL, json = js_input)\n",
    "  \n",
    "# extracting data in json format\n",
    "#print(r)"
   ]
  }
 ],
 "metadata": {
  "kernelspec": {
   "display_name": "Python 3",
   "language": "python",
   "name": "python3"
  },
  "language_info": {
   "codemirror_mode": {
    "name": "ipython",
    "version": 3
   },
   "file_extension": ".py",
   "mimetype": "text/x-python",
   "name": "python",
   "nbconvert_exporter": "python",
   "pygments_lexer": "ipython3",
   "version": "3.7.9"
  },
  "orig_nbformat": 4
 },
 "nbformat": 4,
 "nbformat_minor": 2
}
