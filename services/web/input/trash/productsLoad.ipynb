{
 "cells": [
  {
   "cell_type": "code",
   "execution_count": 2,
   "metadata": {},
   "outputs": [],
   "source": [
    "import os\n",
    "import pandas as pd\n",
    "import requests\n",
    "\n",
    "#os.chdir('/Users/thomas/Documents/reveals/CLIENTS/MASSENA/Massena_PS/services/web/input')"
   ]
  },
  {
   "attachments": {},
   "cell_type": "markdown",
   "metadata": {},
   "source": [
    "#### chargement des produits "
   ]
  },
  {
   "cell_type": "code",
   "execution_count": 3,
   "metadata": {},
   "outputs": [],
   "source": [
    "#ticker = pd.read_excel('./produitStructure.xlsx', sheet_name=\"TICKER\")\n",
    "#ssjacents = pd.read_excel('./produitStructure.xlsx', sheet_name=\"SSJACENT\")\n",
    "produit_structure = pd.read_excel('./produitStructure.xlsx', sheet_name=\"Autocall\")"
   ]
  },
  {
   "cell_type": "code",
   "execution_count": 4,
   "metadata": {},
   "outputs": [
    {
     "name": "stderr",
     "output_type": "stream",
     "text": [
      "/var/folders/my/rs8pgdv168n0_4d_v__1kp0h0000gn/T/ipykernel_6232/810293565.py:47: FutureWarning: The default value of regex will change from True to False in a future version.\n",
      "  PS_final['description'] = PS_final['description'].str.replace('<[^<]+?>', '')\n",
      "/var/folders/my/rs8pgdv168n0_4d_v__1kp0h0000gn/T/ipykernel_6232/810293565.py:49: FutureWarning: The default value of regex will change from True to False in a future version.\n",
      "  PS_final['description'] = PS_final['description'].str.replace('_.*_', '')\n"
     ]
    }
   ],
   "source": [
    "columns_renamed = {\n",
    "    'Code ISIN': 'isin',\n",
    "    'Ticker du sous-jacent': 'ticker',\n",
    "    'Devise': 'devise',\n",
    "    'Intitulé commercial': 'shortName',\n",
    "    'typeCommentaire': 'description',\n",
    "    'Montant Souscrit': 'investissement',\n",
    "    'Type de barrière': 'barriere',\n",
    "    'Type': 'produit',\n",
    "    'Emetteur': 'emetteur',\n",
    "    'Maturité': 'maturite',\n",
    "    'Type de produit': 'produit2',\n",
    "    'clientele_cible': 'clientele',\n",
    "    'Remuneration': 'remuneration',\n",
    "    'typePanier': 'panier',\n",
    "\n",
    "    'Date credit en compte': 'dateAchat',\n",
    "    'Date d\\'émission': 'dateEmission',\n",
    "    'Date d\\'échéance': 'dateEchFinale',\n",
    "    'Date de remboursement effectif': 'dateRembEff',\n",
    "\n",
    "    #'': 'periodeRemb',\n",
    "    'Periode': 'periodeRemb',\n",
    "    'Période de non Call': 'periodeNocall'\n",
    "}\n",
    "\n",
    "produit_structure.rename(columns=columns_renamed, inplace=True)\n",
    "\n",
    "for col in columns_renamed.values():\n",
    "    if col not in produit_structure.columns:\n",
    "        produit_structure[col] = None\n",
    "    \n",
    "\n",
    "PS_final = produit_structure[columns_renamed.values()]\n",
    "PS_final = PS_final.fillna('')\n",
    "PS_final['dateAchat'] = PS_final['dateAchat'].dt.strftime('%d/%m/%Y').astype(str).replace('nan', '01/01/1900')\n",
    "PS_final['dateEchFinale'] = PS_final['dateEchFinale'].dt.strftime('%d/%m/%Y').astype(str).replace('nan', '01/01/1900')\n",
    "PS_final['dateEmission'] = PS_final['dateEmission'].dt.strftime('%d/%m/%Y').astype(str).replace('nan', '01/01/1900')\n",
    "PS_final['dateRembEff'] = PS_final['dateRembEff'].dt.strftime('%d/%m/%Y').astype(str).replace('nan', '01/01/1900')\n",
    "\n",
    "#PS_final[\"periodeRemb\"] = PS_final[\"periodeRemb\"].replace('','0').astype(int)\n",
    "PS_final[\"maturite\"] = PS_final[\"maturite\"].replace('','0').astype(int)\n",
    "PS_final[\"investissement\"] = PS_final[\"investissement\"].replace('','0').astype(int)\n",
    "PS_final[\"maturite\"] = PS_final[\"maturite\"].replace('','0').astype(int)\n",
    "\n",
    "# From the column description, remove the html tags\n",
    "PS_final['description'] = PS_final['description'].str.replace('<[^<]+?>', '')\n",
    "# From the column description, remvoe characters that are between _\n",
    "PS_final['description'] = PS_final['description'].str.replace('_.*_', '')\n",
    "\n",
    "\n"
   ]
  },
  {
   "cell_type": "code",
   "execution_count": 5,
   "metadata": {},
   "outputs": [],
   "source": [
    "def normParam(x):\n",
    "    return x.strip().upper() if len(x)>0 else 'NONE'\n",
    "\n",
    "for col in [\"emetteur\",\"produit\",\"produit2\",\"clientele\",\"remuneration\",\"panier\",\"devise\",\"barriere\",\"periodeRemb\"]:\n",
    "    PS_final[col]=PS_final[col].apply(normParam)\n"
   ]
  },
  {
   "cell_type": "code",
   "execution_count": 6,
   "metadata": {},
   "outputs": [
    {
     "name": "stdout",
     "output_type": "stream",
     "text": [
      "<Response [200]>\n"
     ]
    }
   ],
   "source": [
    "json_input = PS_final.to_json(orient='records')\n",
    "\n",
    "# api-endpoint\n",
    "URL = \"http://127.0.0.1:5001/api/setproducts\"\n",
    "\n",
    "r = requests.post(url = URL, json = json_input)\n",
    "print(r)"
   ]
  },
  {
   "attachments": {},
   "cell_type": "markdown",
   "metadata": {},
   "source": [
    "---"
   ]
  },
  {
   "attachments": {},
   "cell_type": "markdown",
   "metadata": {},
   "source": [
    "#### Chargement des sous-jacents : "
   ]
  },
  {
   "cell_type": "code",
   "execution_count": 214,
   "metadata": {},
   "outputs": [
    {
     "data": {
      "text/plain": [
       "(838, 3)"
      ]
     },
     "execution_count": 214,
     "metadata": {},
     "output_type": "execute_result"
    }
   ],
   "source": [
    "# Set columns name as row with index 581 and set the previous column name as a row\n",
    "ssjacents = pd.read_excel('./produitStructure.xlsx', sheet_name=\"SSJACENT\")\n",
    "ssjacents.columns = ssjacents.loc[581].reset_index(drop=True)\n",
    "ssjacents.head()\n",
    "ssjacents.shape"
   ]
  },
  {
   "cell_type": "code",
   "execution_count": 215,
   "metadata": {},
   "outputs": [],
   "source": [
    "ticker = pd.read_excel('./produitStructure.xlsx', sheet_name=\"TICKER\")\n",
    "columns_renamed = {'CODE ISIN': 'isin','TICKER': 'ticker','Sous-jacent': 'shortName','Prix': 'price','DatePrix': 'priceDate',\n",
    "}\n",
    "                   \n",
    "ticker.rename(columns=columns_renamed, inplace=True)\n",
    "                   \n",
    "INSTRUMENT_final = ticker[columns_renamed.values()]\n",
    "INSTRUMENT_final = INSTRUMENT_final.fillna('')\n",
    "\n",
    "# Transform priceDate to DateTime\n",
    "INSTRUMENT_final['priceDate'] = pd.to_datetime(INSTRUMENT_final['priceDate'], format='%d/%m/%Y', errors='coerce')\n",
    "INSTRUMENT_final['priceDate'] = INSTRUMENT_final['priceDate'].dt.strftime('%Y-%m-%d').astype(str).replace('nan', '01/01/1900')\n",
    "INSTRUMENT_final[\"price\"] = INSTRUMENT_final[\"price\"].replace('','0').astype(float)"
   ]
  },
  {
   "cell_type": "code",
   "execution_count": 216,
   "metadata": {},
   "outputs": [
    {
     "name": "stderr",
     "output_type": "stream",
     "text": [
      "/Users/david/Library/Python/3.7/lib/python/site-packages/ipykernel_launcher.py:4: FutureWarning: The default value of regex will change from True to False in a future version.\n",
      "  after removing the cwd from sys.path.\n"
     ]
    }
   ],
   "source": [
    "ssjacents = pd.read_excel('./produitStructure.xlsx', sheet_name=\"SSJACENT\")\n",
    "ssjacents.columns = ssjacents.loc[581].reset_index(drop=True)\n",
    "ssjacents.columns.name = None\n",
    "ssjacents['ISIN'] = ssjacents['ISIN'].str.replace('[^a-zA-Z0-9]', '')\n",
    "ssjacents = ssjacents.rename(columns={'ISIN': 'isin','NOM': 'shortName'})\n",
    "ssjacents_reworked = pd.merge(INSTRUMENT_final, ssjacents, on='shortName', how='inner')\n",
    "ssjacents_reworked[[\"shortName\", \"ticker\", \"isin_x\", \"isin_y\"]]\n",
    "\n",
    "ssjacents_reworked = ssjacents_reworked.rename(columns={'isin_x':'idInstrument','isin_y':'idProduit'})\n",
    "ssjacents_reworked=ssjacents_reworked[['idProduit','ticker','price','priceDate','strike']]\n"
   ]
  },
  {
   "cell_type": "code",
   "execution_count": 217,
   "metadata": {},
   "outputs": [
    {
     "data": {
      "text/html": [
       "<div>\n",
       "<style scoped>\n",
       "    .dataframe tbody tr th:only-of-type {\n",
       "        vertical-align: middle;\n",
       "    }\n",
       "\n",
       "    .dataframe tbody tr th {\n",
       "        vertical-align: top;\n",
       "    }\n",
       "\n",
       "    .dataframe thead th {\n",
       "        text-align: right;\n",
       "    }\n",
       "</style>\n",
       "<table border=\"1\" class=\"dataframe\">\n",
       "  <thead>\n",
       "    <tr style=\"text-align: right;\">\n",
       "      <th></th>\n",
       "      <th>isinProduit</th>\n",
       "      <th>TickerSj</th>\n",
       "      <th>price</th>\n",
       "      <th>priceDate</th>\n",
       "      <th>strike</th>\n",
       "    </tr>\n",
       "  </thead>\n",
       "  <tbody>\n",
       "    <tr>\n",
       "      <th>0</th>\n",
       "      <td>XS2349887278</td>\n",
       "      <td>1919 HK Equity</td>\n",
       "      <td>8.77</td>\n",
       "      <td>01/01/1900</td>\n",
       "      <td>15.3539</td>\n",
       "    </tr>\n",
       "    <tr>\n",
       "      <th>1</th>\n",
       "      <td>XS2278659623</td>\n",
       "      <td>2330 TT Equity</td>\n",
       "      <td>387.00</td>\n",
       "      <td>01/01/1900</td>\n",
       "      <td>570</td>\n",
       "    </tr>\n",
       "    <tr>\n",
       "      <th>2</th>\n",
       "      <td>XS2349887278</td>\n",
       "      <td>2603 TT Equity</td>\n",
       "      <td>137.50</td>\n",
       "      <td>01/01/1900</td>\n",
       "      <td>136</td>\n",
       "    </tr>\n",
       "    <tr>\n",
       "      <th>3</th>\n",
       "      <td>CH0567768038</td>\n",
       "      <td>700 HK Equity</td>\n",
       "      <td>206.20</td>\n",
       "      <td>01/01/1900</td>\n",
       "      <td>584</td>\n",
       "    </tr>\n",
       "    <tr>\n",
       "      <th>4</th>\n",
       "      <td>CH0569863316</td>\n",
       "      <td>AAPL UW Equity</td>\n",
       "      <td>149.45</td>\n",
       "      <td>01/01/1900</td>\n",
       "      <td>116.97</td>\n",
       "    </tr>\n",
       "    <tr>\n",
       "      <th>...</th>\n",
       "      <td>...</td>\n",
       "      <td>...</td>\n",
       "      <td>...</td>\n",
       "      <td>...</td>\n",
       "      <td>...</td>\n",
       "    </tr>\n",
       "    <tr>\n",
       "      <th>799</th>\n",
       "      <td>XS2114132710</td>\n",
       "      <td>XXX</td>\n",
       "      <td>0.00</td>\n",
       "      <td>01/01/1900</td>\n",
       "      <td>NaN</td>\n",
       "    </tr>\n",
       "    <tr>\n",
       "      <th>800</th>\n",
       "      <td>XS2123780970</td>\n",
       "      <td>XXX</td>\n",
       "      <td>0.00</td>\n",
       "      <td>01/01/1900</td>\n",
       "      <td>NaN</td>\n",
       "    </tr>\n",
       "    <tr>\n",
       "      <th>801</th>\n",
       "      <td>XS2238705623</td>\n",
       "      <td>XXX</td>\n",
       "      <td>0.00</td>\n",
       "      <td>01/01/1900</td>\n",
       "      <td>NaN</td>\n",
       "    </tr>\n",
       "    <tr>\n",
       "      <th>802</th>\n",
       "      <td>XS2335545963</td>\n",
       "      <td>XXX</td>\n",
       "      <td>0.00</td>\n",
       "      <td>01/01/1900</td>\n",
       "      <td>NaN</td>\n",
       "    </tr>\n",
       "    <tr>\n",
       "      <th>803</th>\n",
       "      <td>XS2223241576</td>\n",
       "      <td>ZM UW Equity</td>\n",
       "      <td>80.61</td>\n",
       "      <td>01/01/1900</td>\n",
       "      <td>410.94</td>\n",
       "    </tr>\n",
       "  </tbody>\n",
       "</table>\n",
       "<p>804 rows × 5 columns</p>\n",
       "</div>"
      ],
      "text/plain": [
       "      isinProduit        TickerSj   price   priceDate   strike\n",
       "0    XS2349887278  1919 HK Equity    8.77  01/01/1900  15.3539\n",
       "1    XS2278659623  2330 TT Equity  387.00  01/01/1900      570\n",
       "2    XS2349887278  2603 TT Equity  137.50  01/01/1900      136\n",
       "3    CH0567768038   700 HK Equity  206.20  01/01/1900      584\n",
       "4    CH0569863316  AAPL UW Equity  149.45  01/01/1900   116.97\n",
       "..            ...             ...     ...         ...      ...\n",
       "799  XS2114132710             XXX    0.00  01/01/1900      NaN\n",
       "800  XS2123780970             XXX    0.00  01/01/1900      NaN\n",
       "801  XS2238705623             XXX    0.00  01/01/1900      NaN\n",
       "802  XS2335545963             XXX    0.00  01/01/1900      NaN\n",
       "803  XS2223241576    ZM UW Equity   80.61  01/01/1900   410.94\n",
       "\n",
       "[804 rows x 5 columns]"
      ]
     },
     "execution_count": 217,
     "metadata": {},
     "output_type": "execute_result"
    }
   ],
   "source": [
    "ssjacents_reworked=ssjacents_reworked.rename(columns={'idProduit':'isinProduit','ticker':'TickerSj'})\n",
    "ssjacents_reworked"
   ]
  },
  {
   "cell_type": "code",
   "execution_count": 218,
   "metadata": {},
   "outputs": [
    {
     "name": "stdout",
     "output_type": "stream",
     "text": [
      "<Response [200]>\n"
     ]
    }
   ],
   "source": [
    "json_input = ssjacents_reworked.to_json(orient='records')\n",
    "# api-endpoint\n",
    "URL = \"http://127.0.0.1:5001/api/setssjacents\"\n",
    "\n",
    "r = requests.post(url = URL, json = json_input)\n",
    "print(r)"
   ]
  },
  {
   "attachments": {},
   "cell_type": "markdown",
   "metadata": {},
   "source": [
    "---"
   ]
  },
  {
   "attachments": {},
   "cell_type": "markdown",
   "metadata": {},
   "source": [
    "#### chargement des échéances :"
   ]
  },
  {
   "cell_type": "code",
   "execution_count": 219,
   "metadata": {},
   "outputs": [
    {
     "data": {
      "text/html": [
       "<div>\n",
       "<style scoped>\n",
       "    .dataframe tbody tr th:only-of-type {\n",
       "        vertical-align: middle;\n",
       "    }\n",
       "\n",
       "    .dataframe tbody tr th {\n",
       "        vertical-align: top;\n",
       "    }\n",
       "\n",
       "    .dataframe thead th {\n",
       "        text-align: right;\n",
       "    }\n",
       "</style>\n",
       "<table border=\"1\" class=\"dataframe\">\n",
       "  <thead>\n",
       "    <tr style=\"text-align: right;\">\n",
       "      <th></th>\n",
       "      <th>Periode</th>\n",
       "      <th>Pourcentage</th>\n",
       "      <th>ISIN</th>\n",
       "      <th>noncall</th>\n",
       "    </tr>\n",
       "  </thead>\n",
       "  <tbody>\n",
       "    <tr>\n",
       "      <th>0</th>\n",
       "      <td>1</td>\n",
       "      <td>1.000</td>\n",
       "      <td>CH0283710108</td>\n",
       "      <td>OUI</td>\n",
       "    </tr>\n",
       "    <tr>\n",
       "      <th>1</th>\n",
       "      <td>2</td>\n",
       "      <td>1.000</td>\n",
       "      <td>CH0283710108</td>\n",
       "      <td>NON</td>\n",
       "    </tr>\n",
       "    <tr>\n",
       "      <th>2</th>\n",
       "      <td>3</td>\n",
       "      <td>0.975</td>\n",
       "      <td>CH0283710108</td>\n",
       "      <td>NON</td>\n",
       "    </tr>\n",
       "    <tr>\n",
       "      <th>3</th>\n",
       "      <td>4</td>\n",
       "      <td>0.950</td>\n",
       "      <td>CH0283710108</td>\n",
       "      <td>NON</td>\n",
       "    </tr>\n",
       "    <tr>\n",
       "      <th>4</th>\n",
       "      <td>5</td>\n",
       "      <td>0.925</td>\n",
       "      <td>CH0283710108</td>\n",
       "      <td>NON</td>\n",
       "    </tr>\n",
       "  </tbody>\n",
       "</table>\n",
       "</div>"
      ],
      "text/plain": [
       "   Periode  Pourcentage          ISIN noncall\n",
       "0        1        1.000  CH0283710108     OUI\n",
       "1        2        1.000  CH0283710108     NON\n",
       "2        3        0.975  CH0283710108     NON\n",
       "3        4        0.950  CH0283710108     NON\n",
       "4        5        0.925  CH0283710108     NON"
      ]
     },
     "execution_count": 219,
     "metadata": {},
     "output_type": "execute_result"
    }
   ],
   "source": [
    "dfEch=pd.read_excel('./produitStructure.xlsx', sheet_name=\"BARRIERE\")\n",
    "dfEch.head()"
   ]
  },
  {
   "cell_type": "code",
   "execution_count": 220,
   "metadata": {},
   "outputs": [
    {
     "data": {
      "text/html": [
       "<div>\n",
       "<style scoped>\n",
       "    .dataframe tbody tr th:only-of-type {\n",
       "        vertical-align: middle;\n",
       "    }\n",
       "\n",
       "    .dataframe tbody tr th {\n",
       "        vertical-align: top;\n",
       "    }\n",
       "\n",
       "    .dataframe thead th {\n",
       "        text-align: right;\n",
       "    }\n",
       "</style>\n",
       "<table border=\"1\" class=\"dataframe\">\n",
       "  <thead>\n",
       "    <tr style=\"text-align: right;\">\n",
       "      <th></th>\n",
       "      <th>Period</th>\n",
       "      <th>Percent</th>\n",
       "      <th>isinProduit</th>\n",
       "      <th>noncall</th>\n",
       "      <th>type</th>\n",
       "    </tr>\n",
       "  </thead>\n",
       "  <tbody>\n",
       "    <tr>\n",
       "      <th>0</th>\n",
       "      <td>1</td>\n",
       "      <td>1.000</td>\n",
       "      <td>CH0283710108</td>\n",
       "      <td>True</td>\n",
       "      <td>Remb</td>\n",
       "    </tr>\n",
       "    <tr>\n",
       "      <th>1</th>\n",
       "      <td>2</td>\n",
       "      <td>1.000</td>\n",
       "      <td>CH0283710108</td>\n",
       "      <td>False</td>\n",
       "      <td>Remb</td>\n",
       "    </tr>\n",
       "    <tr>\n",
       "      <th>2</th>\n",
       "      <td>3</td>\n",
       "      <td>0.975</td>\n",
       "      <td>CH0283710108</td>\n",
       "      <td>False</td>\n",
       "      <td>Remb</td>\n",
       "    </tr>\n",
       "    <tr>\n",
       "      <th>3</th>\n",
       "      <td>4</td>\n",
       "      <td>0.950</td>\n",
       "      <td>CH0283710108</td>\n",
       "      <td>False</td>\n",
       "      <td>Remb</td>\n",
       "    </tr>\n",
       "    <tr>\n",
       "      <th>4</th>\n",
       "      <td>5</td>\n",
       "      <td>0.925</td>\n",
       "      <td>CH0283710108</td>\n",
       "      <td>False</td>\n",
       "      <td>Remb</td>\n",
       "    </tr>\n",
       "  </tbody>\n",
       "</table>\n",
       "</div>"
      ],
      "text/plain": [
       "   Period  Percent   isinProduit  noncall  type\n",
       "0       1    1.000  CH0283710108     True  Remb\n",
       "1       2    1.000  CH0283710108    False  Remb\n",
       "2       3    0.975  CH0283710108    False  Remb\n",
       "3       4    0.950  CH0283710108    False  Remb\n",
       "4       5    0.925  CH0283710108    False  Remb"
      ]
     },
     "execution_count": 220,
     "metadata": {},
     "output_type": "execute_result"
    }
   ],
   "source": [
    "dfEch=dfEch.rename(columns={'ISIN':'isinProduit','Pourcentage':'Percent','Periode':'Period'})\n",
    "dfEch['noncall']=dfEch['noncall'].apply(lambda x: True if x=='OUI'else False)\n",
    "dfEch['type']='Remb'\n",
    "\n",
    "dfEch.head()"
   ]
  },
  {
   "cell_type": "code",
   "execution_count": 221,
   "metadata": {},
   "outputs": [],
   "source": [
    "json_input = dfEch.to_json(orient='records')\n"
   ]
  },
  {
   "cell_type": "code",
   "execution_count": 222,
   "metadata": {},
   "outputs": [
    {
     "name": "stdout",
     "output_type": "stream",
     "text": [
      "<Response [200]>\n"
     ]
    }
   ],
   "source": [
    "json_input = dfEch.to_json(orient='records')\n",
    "# api-endpoint\n",
    "URL = \"http://127.0.0.1:5001/api/setecheances\"\n",
    "\n",
    "r = requests.post(url = URL, json = json_input)\n",
    "print(r)"
   ]
  },
  {
   "cell_type": "code",
   "execution_count": 17,
   "metadata": {},
   "outputs": [],
   "source": [
    "portfolios = pd.read_csv('./BANKVISTA_portfolios_20230503_20230504-190004.csv', sep=';')\n",
    "securities = pd.read_csv('./BANKVISTA_securities_20230504_20230505-080502.csv', sep=';')\n",
    "positions = pd.read_csv('./BANKVISTA_positions_20230503_20230504-190003.csv', sep=';')"
   ]
  },
  {
   "cell_type": "code",
   "execution_count": 32,
   "metadata": {},
   "outputs": [
    {
     "data": {
      "text/plain": [
       "Index(['PortfolioId', 'Date', 'Security', 'ISIN', 'Bloomberg', 'SecurityCcy',\n",
       "       'Quantity', 'Price', 'ValueSecurityCcy', 'ValueAccountCcy',\n",
       "       'AccountCcy', 'AccruedInterest'],\n",
       "      dtype='object')"
      ]
     },
     "execution_count": 32,
     "metadata": {},
     "output_type": "execute_result"
    }
   ],
   "source": [
    "positions[~pd.isna(positions['ISIN'])].columns"
   ]
  },
  {
   "cell_type": "code",
   "execution_count": 33,
   "metadata": {},
   "outputs": [
    {
     "data": {
      "text/plain": [
       "Index(['Status', 'EvaluationCurrency', 'AccountName', 'AccountID', 'GroupID',\n",
       "       'AccountList', 'CodeName', 'OtherID', 'ManagementType', 'CustodyBank',\n",
       "       'InsuranceCompany', 'InsuranceType', 'InvestmentPolicy',\n",
       "       'ManagementGroup', 'ClientNature', 'AccountManager1', 'AccountManager2',\n",
       "       'RelationshipManager', 'CreationDate', 'OpeningDate', 'ClosingDate'],\n",
       "      dtype='object')"
      ]
     },
     "execution_count": 33,
     "metadata": {},
     "output_type": "execute_result"
    }
   ],
   "source": [
    "portfolios[portfolios['AccountID']==\"0000180491Q\"].columns"
   ]
  },
  {
   "cell_type": "code",
   "execution_count": 67,
   "metadata": {},
   "outputs": [
    {
     "name": "stderr",
     "output_type": "stream",
     "text": [
      "/var/folders/my/rs8pgdv168n0_4d_v__1kp0h0000gn/T/ipykernel_6232/3974815577.py:16: FutureWarning: The frame.append method is deprecated and will be removed from pandas in a future version. Use pandas.concat instead.\n",
      "  managers_df = managers_df.append({'name': manager.split(' ')[0], 'surname': manager.split(' ')[1].title(), 'mail': manager.split(' ')[0] + '.' + manager.split(' ')[1] + '@massena.lu', 'role': role, 'password': 'massena'}, ignore_index=True)\n",
      "/var/folders/my/rs8pgdv168n0_4d_v__1kp0h0000gn/T/ipykernel_6232/3974815577.py:16: FutureWarning: The frame.append method is deprecated and will be removed from pandas in a future version. Use pandas.concat instead.\n",
      "  managers_df = managers_df.append({'name': manager.split(' ')[0], 'surname': manager.split(' ')[1].title(), 'mail': manager.split(' ')[0] + '.' + manager.split(' ')[1] + '@massena.lu', 'role': role, 'password': 'massena'}, ignore_index=True)\n",
      "/var/folders/my/rs8pgdv168n0_4d_v__1kp0h0000gn/T/ipykernel_6232/3974815577.py:16: FutureWarning: The frame.append method is deprecated and will be removed from pandas in a future version. Use pandas.concat instead.\n",
      "  managers_df = managers_df.append({'name': manager.split(' ')[0], 'surname': manager.split(' ')[1].title(), 'mail': manager.split(' ')[0] + '.' + manager.split(' ')[1] + '@massena.lu', 'role': role, 'password': 'massena'}, ignore_index=True)\n",
      "/var/folders/my/rs8pgdv168n0_4d_v__1kp0h0000gn/T/ipykernel_6232/3974815577.py:16: FutureWarning: The frame.append method is deprecated and will be removed from pandas in a future version. Use pandas.concat instead.\n",
      "  managers_df = managers_df.append({'name': manager.split(' ')[0], 'surname': manager.split(' ')[1].title(), 'mail': manager.split(' ')[0] + '.' + manager.split(' ')[1] + '@massena.lu', 'role': role, 'password': 'massena'}, ignore_index=True)\n",
      "/var/folders/my/rs8pgdv168n0_4d_v__1kp0h0000gn/T/ipykernel_6232/3974815577.py:16: FutureWarning: The frame.append method is deprecated and will be removed from pandas in a future version. Use pandas.concat instead.\n",
      "  managers_df = managers_df.append({'name': manager.split(' ')[0], 'surname': manager.split(' ')[1].title(), 'mail': manager.split(' ')[0] + '.' + manager.split(' ')[1] + '@massena.lu', 'role': role, 'password': 'massena'}, ignore_index=True)\n"
     ]
    },
    {
     "data": {
      "text/html": [
       "<div>\n",
       "<style scoped>\n",
       "    .dataframe tbody tr th:only-of-type {\n",
       "        vertical-align: middle;\n",
       "    }\n",
       "\n",
       "    .dataframe tbody tr th {\n",
       "        vertical-align: top;\n",
       "    }\n",
       "\n",
       "    .dataframe thead th {\n",
       "        text-align: right;\n",
       "    }\n",
       "</style>\n",
       "<table border=\"1\" class=\"dataframe\">\n",
       "  <thead>\n",
       "    <tr style=\"text-align: right;\">\n",
       "      <th></th>\n",
       "      <th>name</th>\n",
       "      <th>surname</th>\n",
       "      <th>mail</th>\n",
       "      <th>role</th>\n",
       "      <th>password</th>\n",
       "    </tr>\n",
       "  </thead>\n",
       "  <tbody>\n",
       "    <tr>\n",
       "      <th>0</th>\n",
       "      <td>SCHON</td>\n",
       "      <td>Pascale</td>\n",
       "      <td>SCHON.PASCALE@massena.lu</td>\n",
       "      <td>FRONT</td>\n",
       "      <td>massena</td>\n",
       "    </tr>\n",
       "    <tr>\n",
       "      <th>1</th>\n",
       "      <td>NGUYEN</td>\n",
       "      <td>Minh-Tri</td>\n",
       "      <td>NGUYEN.MINH-TRI@massena.lu</td>\n",
       "      <td>FRONT</td>\n",
       "      <td>massena</td>\n",
       "    </tr>\n",
       "    <tr>\n",
       "      <th>2</th>\n",
       "      <td>BERRIH</td>\n",
       "      <td>Abdel</td>\n",
       "      <td>BERRIH.ABDEL@massena.lu</td>\n",
       "      <td>FRONT</td>\n",
       "      <td>massena</td>\n",
       "    </tr>\n",
       "    <tr>\n",
       "      <th>3</th>\n",
       "      <td>MARTIN</td>\n",
       "      <td>Lionel</td>\n",
       "      <td>MARTIN.LIONEL@massena.lu</td>\n",
       "      <td>ADMIN</td>\n",
       "      <td>massena</td>\n",
       "    </tr>\n",
       "    <tr>\n",
       "      <th>4</th>\n",
       "      <td>CUILLIERE</td>\n",
       "      <td>Sandra</td>\n",
       "      <td>CUILLIERE.SANDRA@massena.lu</td>\n",
       "      <td>FRONT</td>\n",
       "      <td>massena</td>\n",
       "    </tr>\n",
       "  </tbody>\n",
       "</table>\n",
       "</div>"
      ],
      "text/plain": [
       "        name   surname                         mail   role password\n",
       "0      SCHON   Pascale     SCHON.PASCALE@massena.lu  FRONT  massena\n",
       "1     NGUYEN  Minh-Tri   NGUYEN.MINH-TRI@massena.lu  FRONT  massena\n",
       "2     BERRIH     Abdel      BERRIH.ABDEL@massena.lu  FRONT  massena\n",
       "3     MARTIN    Lionel     MARTIN.LIONEL@massena.lu  ADMIN  massena\n",
       "4  CUILLIERE    Sandra  CUILLIERE.SANDRA@massena.lu  FRONT  massena"
      ]
     },
     "execution_count": 67,
     "metadata": {},
     "output_type": "execute_result"
    }
   ],
   "source": [
    "merge_df=pd.merge(positions[['PortfolioId','ISIN']], portfolios[['AccountID','RelationshipManager']], right_on='AccountID', left_on='PortfolioId', how='inner')\n",
    "\n",
    "# Get unique list of ISIN in PS_final table\n",
    "isin_list=PS_final['isin'].tolist()\n",
    "\n",
    "\n",
    "managers = merge_df[merge_df['ISIN'].isin(isin_list)]['RelationshipManager'].unique()\n",
    "\n",
    "# For each manager, create a new table with name, surname, mail and role\n",
    "managers_df = pd.DataFrame(columns=['name', 'surname', 'mail', 'role', 'password'])\n",
    "for manager in managers:\n",
    "    role = 'FRONT'\n",
    "    if manager == 'MARTIN LIONEL':\n",
    "        role = 'ADMIN'\n",
    "    managers_df = managers_df.append({'name': manager.split(' ')[0], 'surname': manager.split(' ')[1].title(), 'mail': manager.split(' ')[0].lower() + '.' + manager.split(' ')[1] + '@massena.lu', 'role': role, 'password': 'massena'}, ignore_index=True)\n",
    "\n",
    "managers_df"
   ]
  },
  {
   "cell_type": "code",
   "execution_count": 52,
   "metadata": {},
   "outputs": [
    {
     "data": {
      "text/plain": [
       "array(['SCHON PASCALE', 'NGUYEN MINH-TRI', 'BERRIH ABDEL',\n",
       "       'MARTIN LIONEL', 'CUILLIERE SANDRA'], dtype=object)"
      ]
     },
     "execution_count": 52,
     "metadata": {},
     "output_type": "execute_result"
    }
   ],
   "source": [
    "managers"
   ]
  },
  {
   "cell_type": "code",
   "execution_count": 65,
   "metadata": {},
   "outputs": [
    {
     "data": {
      "text/plain": [
       "'Cuilliere'"
      ]
     },
     "execution_count": 65,
     "metadata": {},
     "output_type": "execute_result"
    }
   ],
   "source": [
    "manager.split(' ')[0]\n",
    "#Set from manager.split(' ')[0] to upper case only for first letter\n",
    "manager.split(' ')[0].title()"
   ]
  },
  {
   "cell_type": "code",
   "execution_count": 5,
   "metadata": {},
   "outputs": [
    {
     "name": "stdout",
     "output_type": "stream",
     "text": [
      "<Response [200]>\n"
     ]
    }
   ],
   "source": [
    "def newEcheances():\n",
    "    dfEch=pd.read_excel('./produitStructure.xlsx', sheet_name=\"BARRIERE\")\n",
    "\n",
    "    dfEch=dfEch.rename(columns={'ISIN':'isinProduit','Pourcentage':'Percent','Periode':'Period'})\n",
    "    dfEch['noncall']=dfEch['noncall'].apply(lambda x: True if x=='OUI'else False)\n",
    "    dfEch['type']='Remb'\n",
    "\n",
    "    json_input = dfEch.to_json(orient='records')\n",
    "\n",
    "    json_input = dfEch.to_json(orient='records')\n",
    "    \n",
    "    # api-endpoint\n",
    "    URL = \"http://127.0.0.1:5001/api/setecheances\"\n",
    "\n",
    "    r = requests.post(url = URL, json = json_input)\n",
    "    print(r)\n",
    "\n",
    "newEcheances()\n"
   ]
  }
 ],
 "metadata": {
  "kernelspec": {
   "display_name": "venv",
   "language": "python",
   "name": "python3"
  },
  "language_info": {
   "codemirror_mode": {
    "name": "ipython",
    "version": 3
   },
   "file_extension": ".py",
   "mimetype": "text/x-python",
   "name": "python",
   "nbconvert_exporter": "python",
   "pygments_lexer": "ipython3",
   "version": "3.7.9"
  },
  "orig_nbformat": 4
 },
 "nbformat": 4,
 "nbformat_minor": 2
}
